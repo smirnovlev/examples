{
 "cells": [
  {
   "cell_type": "code",
   "execution_count": 1,
   "id": "059202dc",
   "metadata": {},
   "outputs": [],
   "source": [
    "import numpy as np\n",
    "import pandas as pd\n",
    "from scipy import stats\n",
    "import scipy"
   ]
  },
  {
   "cell_type": "markdown",
   "id": "e463f5b5",
   "metadata": {
    "id": "e463f5b5"
   },
   "source": [
    "## Задача 1. Осьминог Пауль (2 балла)\n",
    "\n",
    "\n",
    "В период с 2008 по 2010 год в Германии жил Осьминог Пауль, который был известен тем, что мог предсказывать результаты матчей с участием сборной Германии.     \n",
    "   \n",
    "В таблице ниже вы можете видеть результаты его предсказаний: \n"
   ]
  },
  {
   "cell_type": "markdown",
   "id": "63504b80",
   "metadata": {
    "id": "63504b80"
   },
   "source": [
    "<a href=\"https://ibb.co/VWnc5yG\"><img src=\"https://i.ibb.co/QFS3tBV/image.jpg\" alt=\"image\" border=\"0\"></a>"
   ]
  },
  {
   "cell_type": "markdown",
   "id": "346f6376",
   "metadata": {
    "id": "346f6376"
   },
   "source": [
    "Если считать, что случайным образом мы угадывали ли бы 50% матчей, то можно ли утверждать, что осьминог Пауль был талантливым экстрасенсом со способностями к предсказаниям?"
   ]
  },
  {
   "cell_type": "markdown",
   "id": "02ed5946",
   "metadata": {},
   "source": [
    "Сформулируем статистические гипотезы:\n",
    "\n",
    "H0: p = 1/2 (вероятность угадывания - 50%, то есть оказывается прав так же, как и наугад)\n",
    "\n",
    "H1: p > 1/2 (вероятность угадывания больше 50%, то есть выбирает правильный исход чаще, чем наугад)\n",
    "\n",
    "Будем проверять статистические гипотезы на уровне значимости 5%\n",
    "\n",
    "Для проверки используем биноминальный тест, так как у нас представлена всего одна выборка, имеющая распределение Бернулли (где 0 - не угадал, 1 - угадал)"
   ]
  },
  {
   "cell_type": "code",
   "execution_count": 2,
   "id": "9072470f",
   "metadata": {
    "id": "9072470f"
   },
   "outputs": [
    {
     "data": {
      "text/plain": [
       "0.01123046875"
      ]
     },
     "execution_count": 2,
     "metadata": {},
     "output_type": "execute_result"
    }
   ],
   "source": [
    "### ╰( ͡° ͜ʖ ͡° )つ──☆ сотворите статистическую магию\n",
    "stats.binom_test(11, 13, 0.5, alternative = 'greater')"
   ]
  },
  {
   "cell_type": "markdown",
   "id": "836da33c",
   "metadata": {},
   "source": [
    "p-value < 0.05 => на уровне значимости 5% мы отвергаем нулевую гипотезу H0 в пользу альтернативной H1 о том, что осьминог Пауль выбирает правильный исход чаще, чем наугад. Следовательно с 95% доверительной вероятностью Пауль действительно является талантливым экстрасенсом со способностями к предсказаниям."
   ]
  },
  {
   "cell_type": "markdown",
   "id": "de312a8f",
   "metadata": {
    "id": "de312a8f"
   },
   "source": [
    "## Задача 2.  Корм и котики (2 балла)\n",
    "\n",
    "    \n",
    "Новый корм для котиков рекламируется с помощью рекламного баннера. Отдел маркетинга разработал для рекламы новый баннер. Они считают, что он более красивый. Перед фирмой возникла необходимость проверить какой из двух баннеров лучше.\n",
    "\n",
    "Для этого была создана специальная веб-форма. В этой веб-форме людям по очереди демонстрировали оба баннера и просили поставить лайк, если баннер нравится человеку. Если человеку нравятся оба баннера, он может поставить два лайка. Если ему не нравится ни один баннер, он может не ставить лайки вовсе. Собранные в конечном итоге данные находятся в табличке.\n",
    "\n",
    "Можно ли утверждать, что оба баннера одинаково хороши? Сформулируйте статистическую гипотезу для проверки того, что оба баннера выбирают одинаково часто. Проверьте ее и сделайте выводы.\n"
   ]
  },
  {
   "cell_type": "code",
   "execution_count": 3,
   "id": "167378f2",
   "metadata": {
    "id": "167378f2"
   },
   "outputs": [
    {
     "data": {
      "text/html": [
       "<div>\n",
       "<style scoped>\n",
       "    .dataframe tbody tr th:only-of-type {\n",
       "        vertical-align: middle;\n",
       "    }\n",
       "\n",
       "    .dataframe tbody tr th {\n",
       "        vertical-align: top;\n",
       "    }\n",
       "\n",
       "    .dataframe thead th {\n",
       "        text-align: right;\n",
       "    }\n",
       "</style>\n",
       "<table border=\"1\" class=\"dataframe\">\n",
       "  <thead>\n",
       "    <tr style=\"text-align: right;\">\n",
       "      <th></th>\n",
       "      <th>0</th>\n",
       "      <th>1</th>\n",
       "    </tr>\n",
       "  </thead>\n",
       "  <tbody>\n",
       "    <tr>\n",
       "      <th>0</th>\n",
       "      <td>0</td>\n",
       "      <td>0</td>\n",
       "    </tr>\n",
       "    <tr>\n",
       "      <th>1</th>\n",
       "      <td>1</td>\n",
       "      <td>1</td>\n",
       "    </tr>\n",
       "    <tr>\n",
       "      <th>2</th>\n",
       "      <td>0</td>\n",
       "      <td>0</td>\n",
       "    </tr>\n",
       "    <tr>\n",
       "      <th>3</th>\n",
       "      <td>0</td>\n",
       "      <td>0</td>\n",
       "    </tr>\n",
       "    <tr>\n",
       "      <th>4</th>\n",
       "      <td>0</td>\n",
       "      <td>0</td>\n",
       "    </tr>\n",
       "  </tbody>\n",
       "</table>\n",
       "</div>"
      ],
      "text/plain": [
       "   0  1\n",
       "0  0  0\n",
       "1  1  1\n",
       "2  0  0\n",
       "3  0  0\n",
       "4  0  0"
      ]
     },
     "execution_count": 3,
     "metadata": {},
     "output_type": "execute_result"
    }
   ],
   "source": [
    "### ╰( ͡° ͜ʖ ͡° )つ──☆ сотворите статистическую магию\n",
    "dfbanners = pd.read_csv('banner_click_stat.csv', sep='\\t', header=None)\n",
    "dfbanners.head(5) #убедимся что всё сработало корректно"
   ]
  },
  {
   "cell_type": "markdown",
   "id": "75fc96dd",
   "metadata": {},
   "source": [
    "Сформулируем статистические гипотезы:\n",
    "\n",
    "H0: m1 - m2 = 0 (оба баннера одинаково часто нравятся пользователям)\n",
    "\n",
    "H1: m1 - m2 != 0 (баннеры неодинаково нравятся пользователям)\n",
    "\n",
    "Проверять гипотезы будем на уровне значимости 5%.\n",
    "\n",
    "Чтобы проверить это, воспользуемся критерием знаков, проверяющая гипотезу о равенстве нулю медианы разности, так как наши 2 выборки (имеющие распределение Бернулли) связаны между собой (один и тот же пользователь голосует за понравившийся баннер/баннеры)"
   ]
  },
  {
   "cell_type": "code",
   "execution_count": 4,
   "id": "ae7f4b6d",
   "metadata": {},
   "outputs": [
    {
     "data": {
      "text/plain": [
       "(-8.0, 0.005222879350185395)"
      ]
     },
     "execution_count": 4,
     "metadata": {},
     "output_type": "execute_result"
    }
   ],
   "source": [
    "from statsmodels.stats.descriptivestats import sign_test\n",
    "banner_1 = np.array(dfbanners[0])\n",
    "banner_2 = np.array(dfbanners[1])\n",
    "sign_test(banner_1 - banner_2)"
   ]
  },
  {
   "cell_type": "markdown",
   "id": "d4683e70",
   "metadata": {},
   "source": [
    "P.value оказался равным 0.005. P-value < 0.05, следовательно на уровне значимости 5% мы отвергаем нулевую гипотезу H0 в пользу альтернативной H1 о том, что баннеры неодинаково нравятся пользователям. Тогда с доверительной вероятностью 95% один из предложенных баннеров нравится пользователям больше."
   ]
  },
  {
   "cell_type": "markdown",
   "id": "ceefe195",
   "metadata": {
    "id": "ceefe195"
   },
   "source": [
    "## Задача 3. Немного АВ-тестов (3 балла)\n",
    "## Игра Cookie Cat"
   ]
  },
  {
   "cell_type": "markdown",
   "id": "7a6e5960",
   "metadata": {
    "id": "7a6e5960"
   },
   "source": [
    "В этом задании мы поработаем с данными Cookie Cats - популярной игры-головоломки, которую разработала компания Tactile Entertainment. В этой игре игрок должен соединять одинаковые элементы в ряд, чтобы очистить поле и выиграть уровень. "
   ]
  },
  {
   "cell_type": "markdown",
   "id": "f010877f",
   "metadata": {
    "id": "f010877f"
   },
   "source": [
    "<p style=\"align: center;\"><img align=center src=\"https://i.ytimg.com/vi/iPxZIp0cbJE/maxresdefault.jpg\"  width=500></p>\n",
    " \n",
    " \n",
    "<p style=\"align: center;\"><img align=center src=\"https://s3.amazonaws.com/assets.datacamp.com/production/project_184/img/cc_gates.png\"  width=500></p>\n"
   ]
  },
  {
   "cell_type": "markdown",
   "id": "45a869f8",
   "metadata": {
    "id": "45a869f8"
   },
   "source": [
    "По мере прохождения уровней перед игроками появляются ворота, открытия которых нужно ждать какое-то время или пропускать их, совершая покупки в приложении. С точки зрения создателей эти ворота повышают интерес к игре и стимулируют к вложению денег в игру.\n"
   ]
  },
  {
   "cell_type": "markdown",
   "id": "1992bbd9",
   "metadata": {
    "id": "1992bbd9"
   },
   "source": [
    "Но у создателей появляется важный вопрос: **где лучше всего ставить ворота?**\n",
    "Первоначально первые ворота были размещены на уровне 30. Однако есть гипотеза, что лучше переместить их на уровень 40. В этом задании вам предлагается проанализировать результаты AB-теста, в котором создатели переместили первые ворота в Cookie Cats с 30 уровня на уровень 40. "
   ]
  },
  {
   "cell_type": "markdown",
   "id": "0178c412",
   "metadata": {
    "id": "0178c412"
   },
   "source": [
    "**Данные получены от 90 189 игроков, которые установили игру во время проведения AB-теста. Переменные:**\n",
    "\n",
    "* `userid` - уникальный номер, идентифицирующий каждого игрока.\n",
    "\n",
    "* `version` - был ли игрок помещен в контрольную группу (gate_30 - ворота на уровне 30) или в тестовую группу (gate_40 - ворота на уровне 40).\n",
    "\n",
    "* `sum_gamerounds` - количество игровых раундов, сыгранных игроком в течение первой недели после установки\n",
    "* `retention_1` - вернулся ли игрок в игру через 1 день после установки\n",
    "* `retention_7` - вернулся ли игрок в игру через 7 дней после установки\n",
    "\n",
    "Когда игрок устанавливал игру, ему случайным образом назначали `gate_30` или `gate_40`."
   ]
  },
  {
   "cell_type": "code",
   "execution_count": 5,
   "id": "5d32953b",
   "metadata": {
    "id": "5d32953b",
    "outputId": "e19bff24-d56e-419f-9197-a6169b9e1cf4"
   },
   "outputs": [
    {
     "data": {
      "text/html": [
       "<div>\n",
       "<style scoped>\n",
       "    .dataframe tbody tr th:only-of-type {\n",
       "        vertical-align: middle;\n",
       "    }\n",
       "\n",
       "    .dataframe tbody tr th {\n",
       "        vertical-align: top;\n",
       "    }\n",
       "\n",
       "    .dataframe thead th {\n",
       "        text-align: right;\n",
       "    }\n",
       "</style>\n",
       "<table border=\"1\" class=\"dataframe\">\n",
       "  <thead>\n",
       "    <tr style=\"text-align: right;\">\n",
       "      <th></th>\n",
       "      <th>userid</th>\n",
       "      <th>version</th>\n",
       "      <th>sum_gamerounds</th>\n",
       "      <th>retention_1</th>\n",
       "      <th>retention_7</th>\n",
       "    </tr>\n",
       "  </thead>\n",
       "  <tbody>\n",
       "    <tr>\n",
       "      <th>0</th>\n",
       "      <td>116</td>\n",
       "      <td>gate_30</td>\n",
       "      <td>3</td>\n",
       "      <td>False</td>\n",
       "      <td>False</td>\n",
       "    </tr>\n",
       "    <tr>\n",
       "      <th>1</th>\n",
       "      <td>337</td>\n",
       "      <td>gate_30</td>\n",
       "      <td>38</td>\n",
       "      <td>True</td>\n",
       "      <td>False</td>\n",
       "    </tr>\n",
       "    <tr>\n",
       "      <th>2</th>\n",
       "      <td>377</td>\n",
       "      <td>gate_40</td>\n",
       "      <td>165</td>\n",
       "      <td>True</td>\n",
       "      <td>False</td>\n",
       "    </tr>\n",
       "    <tr>\n",
       "      <th>3</th>\n",
       "      <td>483</td>\n",
       "      <td>gate_40</td>\n",
       "      <td>1</td>\n",
       "      <td>False</td>\n",
       "      <td>False</td>\n",
       "    </tr>\n",
       "    <tr>\n",
       "      <th>4</th>\n",
       "      <td>488</td>\n",
       "      <td>gate_40</td>\n",
       "      <td>179</td>\n",
       "      <td>True</td>\n",
       "      <td>True</td>\n",
       "    </tr>\n",
       "  </tbody>\n",
       "</table>\n",
       "</div>"
      ],
      "text/plain": [
       "   userid  version  sum_gamerounds  retention_1  retention_7\n",
       "0     116  gate_30               3        False        False\n",
       "1     337  gate_30              38         True        False\n",
       "2     377  gate_40             165         True        False\n",
       "3     483  gate_40               1        False        False\n",
       "4     488  gate_40             179         True         True"
      ]
     },
     "execution_count": 5,
     "metadata": {},
     "output_type": "execute_result"
    }
   ],
   "source": [
    "dfcookie = pd.read_csv('cookie_cats.csv')\n",
    "dfcookie.head()"
   ]
  },
  {
   "cell_type": "code",
   "execution_count": 6,
   "id": "563bbcbb",
   "metadata": {
    "id": "563bbcbb",
    "outputId": "4467f65d-2988-455a-ebf0-ec78e3269d38"
   },
   "outputs": [
    {
     "name": "stdout",
     "output_type": "stream",
     "text": [
      "<class 'pandas.core.frame.DataFrame'>\n",
      "RangeIndex: 90189 entries, 0 to 90188\n",
      "Data columns (total 5 columns):\n",
      " #   Column          Non-Null Count  Dtype \n",
      "---  ------          --------------  ----- \n",
      " 0   userid          90189 non-null  int64 \n",
      " 1   version         90189 non-null  object\n",
      " 2   sum_gamerounds  90189 non-null  int64 \n",
      " 3   retention_1     90189 non-null  bool  \n",
      " 4   retention_7     90189 non-null  bool  \n",
      "dtypes: bool(2), int64(2), object(1)\n",
      "memory usage: 2.2+ MB\n"
     ]
    }
   ],
   "source": [
    "dfcookie.info()"
   ]
  },
  {
   "cell_type": "markdown",
   "id": "2bd5758d",
   "metadata": {
    "id": "2bd5758d"
   },
   "source": [
    "### Вопрос 1: есть ли зависимость между возвращаемостью игроков и расположением ворот?"
   ]
  },
  {
   "cell_type": "markdown",
   "id": "d37bb322",
   "metadata": {},
   "source": [
    "Сформулируем статистические гипотезы:\n",
    "\n",
    "H0: p = 0 (зависимость переменных статистически не значима, переменные независыми)\n",
    "\n",
    "H1: p1 != 0 (зависимость переменных статистически значима, переменные зависимы)\n",
    "\n",
    "Проверять гипотезы будем на уровне значимости 5%\n",
    "\n",
    "Чтобы проверить это, воспользуемся критерием независимости Хи-квадрат Пирсона, позволяющий проверить наличие взаимосвязи между двумя категориальными переменными."
   ]
  },
  {
   "cell_type": "markdown",
   "id": "c5412061",
   "metadata": {
    "id": "c5412061"
   },
   "source": [
    "#### 1.1 Проверьте гипотезу для возвращения через день"
   ]
  },
  {
   "cell_type": "code",
   "execution_count": 7,
   "id": "e7ee4751",
   "metadata": {
    "id": "e7ee4751"
   },
   "outputs": [
    {
     "data": {
      "text/plain": [
       "(3.182963657512031,\n",
       " 0.07440965529692188,\n",
       " 1,\n",
       " array([[24799.13514952, 19900.86485048],\n",
       "        [25236.86485048, 20252.13514952]]))"
      ]
     },
     "execution_count": 7,
     "metadata": {},
     "output_type": "execute_result"
    }
   ],
   "source": [
    "### ╰( ͡° ͜ʖ ͡° )つ──☆ сотворите статистическую магию\n",
    "back1 = dfcookie.groupby('version')['retention_1'].value_counts().unstack()\n",
    "stats.chi2_contingency(back1, correction=False)"
   ]
  },
  {
   "cell_type": "markdown",
   "id": "c4369107",
   "metadata": {},
   "source": [
    "В случае возвращения через день, p-value оказался равен 0.07. P-value > 0.05 следовательно мы не отвергаем нулевую гипотезу H0 об отсутствии зависимости переменных. С доверительной вероятностью 95%, связи между возвращением через день и расположением ворот нет."
   ]
  },
  {
   "cell_type": "markdown",
   "id": "15ebcdad",
   "metadata": {
    "id": "15ebcdad"
   },
   "source": [
    "#### 2.2 Проверьте гипотезу для возвращения через семь дней"
   ]
  },
  {
   "cell_type": "code",
   "execution_count": 8,
   "id": "1703de87",
   "metadata": {
    "id": "1703de87"
   },
   "outputs": [
    {
     "data": {
      "text/plain": [
       "(10.013167328688969,\n",
       " 0.0015542499756142805,\n",
       " 1,\n",
       " array([[36382.90257127,  8317.09742873],\n",
       "        [37025.09742873,  8463.90257127]]))"
      ]
     },
     "execution_count": 8,
     "metadata": {},
     "output_type": "execute_result"
    }
   ],
   "source": [
    "### ╰( ͡° ͜ʖ ͡° )つ──☆ сотворите статистическую магию\n",
    "back7 = dfcookie.groupby('version')['retention_7'].value_counts().unstack()\n",
    "stats.chi2_contingency(back7, correction=False)"
   ]
  },
  {
   "cell_type": "markdown",
   "id": "69c54ab8",
   "metadata": {},
   "source": [
    "В случае же с возвращением через день, p-value оказался равным 0.0016. P-value < 0.05 следовательно мы отвергаем нулевую гипотезу H0 в пользу альтернативной H1 о том, что зависимость переменных статистичски значима. С доверительной вероятностью 95%, связь между возвращением через неделю и расположением ворот есть."
   ]
  },
  {
   "cell_type": "markdown",
   "id": "498a3f1d",
   "metadata": {
    "id": "498a3f1d"
   },
   "source": [
    "### Вопрос 2: Отличается ли среднее количество раундов в группах gate_40 и gate_30?"
   ]
  },
  {
   "cell_type": "markdown",
   "id": "cdd00e5f",
   "metadata": {},
   "source": [
    "Для начала проверим,  является ли распределение нормальным. Для этого посмотрим на его график."
   ]
  },
  {
   "cell_type": "code",
   "execution_count": 9,
   "id": "2a56c077",
   "metadata": {},
   "outputs": [
    {
     "data": {
      "text/plain": [
       "<AxesSubplot:xlabel='sum_gamerounds', ylabel='Density'>"
      ]
     },
     "execution_count": 9,
     "metadata": {},
     "output_type": "execute_result"
    },
    {
     "data": {
      "image/png": "[encoded data removed]",
      "text/plain": [
       "<Figure size 432x288 with 1 Axes>"
      ]
     },
     "metadata": {
      "needs_background": "light"
     },
     "output_type": "display_data"
    }
   ],
   "source": [
    "import seaborn as sns\n",
    "import matplotlib.pyplot as plt\n",
    "\n",
    "%matplotlib inline \n",
    "\n",
    "sns.kdeplot(dfcookie['sum_gamerounds'])"
   ]
  },
  {
   "cell_type": "code",
   "execution_count": 10,
   "id": "f99d593d",
   "metadata": {},
   "outputs": [],
   "source": [
    "dfcookie['new_sum']=dfcookie['sum_gamerounds']"
   ]
  },
  {
   "cell_type": "markdown",
   "id": "b45d2aae",
   "metadata": {},
   "source": [
    "График имеет странное распределение и явно указывает на то, что эта переменная не распределна по нормальному закону. Огромный хвост справа указывает на то, что имеются очень большие выбросные значения. Почистим их и проверим на нормальность еще раз."
   ]
  },
  {
   "cell_type": "code",
   "execution_count": 11,
   "id": "094a60f3",
   "metadata": {},
   "outputs": [
    {
     "data": {
      "text/plain": [
       "<AxesSubplot:xlabel='new_sum', ylabel='Density'>"
      ]
     },
     "execution_count": 11,
     "metadata": {},
     "output_type": "execute_result"
    },
    {
     "data": {
      "image/png": "[encoded data removed]",
      "text/plain": [
       "<Figure size 432x288 with 1 Axes>"
      ]
     },
     "metadata": {
      "needs_background": "light"
     },
     "output_type": "display_data"
    }
   ],
   "source": [
    "for x in ['new_sum']:\n",
    "    q3,q1 = np.percentile(dfcookie.loc[:,x],[75,25]) #https://pythobyte.com/detection-removal-outliers-in-python-adaa857e/\n",
    "    iqr = q3-q1\n",
    "\n",
    "    max = q3+(1.5*iqr)\n",
    "    min = q1-(1.5*iqr)\n",
    "\n",
    "    dfcookie.loc[dfcookie[x] < min,x] = np.nan\n",
    "    dfcookie.loc[dfcookie[x] > max,x] = np.nan\n",
    "dfcookiedrop = dfcookie[['new_sum', 'version']].dropna()\n",
    "sns.kdeplot(dfcookiedrop['new_sum'])"
   ]
  },
  {
   "cell_type": "code",
   "execution_count": 12,
   "id": "ae38af77",
   "metadata": {},
   "outputs": [
    {
     "name": "stdout",
     "output_type": "stream",
     "text": [
      "<class 'pandas.core.frame.DataFrame'>\n",
      "Int64Index: 80012 entries, 0 to 90188\n",
      "Data columns (total 2 columns):\n",
      " #   Column   Non-Null Count  Dtype  \n",
      "---  ------   --------------  -----  \n",
      " 0   new_sum  80012 non-null  float64\n",
      " 1   version  80012 non-null  object \n",
      "dtypes: float64(1), object(1)\n",
      "memory usage: 1.8+ MB\n"
     ]
    }
   ],
   "source": [
    "dfcookiedrop.info()"
   ]
  },
  {
   "cell_type": "markdown",
   "id": "d804b6d8",
   "metadata": {},
   "source": [
    "Этот график куда больше похож на график нормального распределение, однако всё равно не является им. С другой стороны, согласно Центральной Предельной теореме, при очень больших выборках мат. ожидение стремится к нормальному распределению. Исходя из этого, мы можем использовать для проверки Т-критерий для двух независимых выборок."
   ]
  },
  {
   "cell_type": "markdown",
   "id": "ac417db8",
   "metadata": {},
   "source": [
    "Сформулируем статистические гипотезы:\n",
    "\n",
    "H0: m1 = m2 (среднее количество раундов в группах равны)\n",
    "\n",
    "H1: m1 != m2 (среднее количество раундов в группах различаются)\n",
    "\n",
    "Гипотезы будем проверять на уровне значимости 5%\n"
   ]
  },
  {
   "cell_type": "code",
   "execution_count": 13,
   "id": "a2504ebd",
   "metadata": {
    "id": "a2504ebd"
   },
   "outputs": [
    {
     "data": {
      "text/plain": [
       "Ttest_indResult(statistic=0.3468210518530167, pvalue=0.7287266726945119)"
      ]
     },
     "execution_count": 13,
     "metadata": {},
     "output_type": "execute_result"
    }
   ],
   "source": [
    "### ╰( ͡° ͜ʖ ͡° )つ──☆ сотворите статистическую магию\n",
    "rounds_g40 = np.array(dfcookiedrop[dfcookiedrop['version']=='gate_40']['new_sum'])\n",
    "rounds_g30 = np.array(dfcookiedrop[dfcookiedrop['version']=='gate_30']['new_sum'])\n",
    "\n",
    "stats.ttest_ind(rounds_g40, rounds_g30, equal_var=False, alternative='two-sided')"
   ]
  },
  {
   "cell_type": "markdown",
   "id": "026a3833",
   "metadata": {},
   "source": [
    "P.value оказался равным 0.729. P-value > 0.05 следовательно мы не отвергаем нулевую гипотезу о том, что среднее количество раундав в группах gate_40 и gate_30 равны. С доверительной вероятностью 95%, количество сыгранных раундов для разных ворот не отличается"
   ]
  },
  {
   "cell_type": "markdown",
   "id": "e236e864",
   "metadata": {
    "id": "e236e864"
   },
   "source": [
    "### Вопрос 3: Отличается ли медианное количество раундов в группах gate_40 и gate_30?"
   ]
  },
  {
   "cell_type": "markdown",
   "id": "12797b1c",
   "metadata": {},
   "source": [
    "Сформулируем статистические гипотезы:\n",
    "\n",
    "H0: med1 = med2 (медианное количество раундов в группах gate_40 И gate_30 равны)\n",
    "\n",
    "H1: med != med2 (медианное количество раундов в группах различается)\n",
    "\n",
    "Проверять гипотезы будем на уровне значимости 5%\n",
    "\n",
    "Для проверки используем критерий Манна-Уитни (позволяющий проверить гипотезу о равестве медиан), т.к. выборки независимы между собой"
   ]
  },
  {
   "cell_type": "code",
   "execution_count": 14,
   "id": "955578c4",
   "metadata": {
    "id": "955578c4"
   },
   "outputs": [
    {
     "data": {
      "text/plain": [
       "MannwhitneyuResult(statistic=1009027049.5, pvalue=0.05020880772044255)"
      ]
     },
     "execution_count": 14,
     "metadata": {},
     "output_type": "execute_result"
    }
   ],
   "source": [
    "### ╰( ͡° ͜ʖ ͡° )つ──☆ сотворите статистическую магию\n",
    "rounds_g40 = np.array(dfcookie[dfcookie['version']=='gate_40']['sum_gamerounds'])\n",
    "rounds_g30 = np.array(dfcookie[dfcookie['version']=='gate_30']['sum_gamerounds'])\n",
    "\n",
    "stats.mannwhitneyu(rounds_g40, rounds_g30, alternative='two-sided')"
   ]
  },
  {
   "cell_type": "markdown",
   "id": "8771f864",
   "metadata": {},
   "source": [
    "P-value оказался равен 0.0502. Значение p-value оказалось очень близким к 0.05, однако всё равно больше, соответственно мы не отвергаем нулевую гипотезу H0 о том, что медианное количество раундов в группах gate_40 и gate_30 равны. С доверительной вероятностью 95% распределения раундов для разных групп одинаковое."
   ]
  },
  {
   "cell_type": "markdown",
   "id": "03f0c2b4",
   "metadata": {
    "id": "03f0c2b4"
   },
   "source": [
    "## Задача 4: Время покемонов (3 балла)"
   ]
  },
  {
   "cell_type": "markdown",
   "id": "413f4923",
   "metadata": {
    "id": "413f4923"
   },
   "source": [
    "В данной задаче вам будет необходимо проанализировать различные характеристики покемонов и сравнить их между собой"
   ]
  },
  {
   "cell_type": "markdown",
   "id": "a253705e",
   "metadata": {
    "id": "a253705e"
   },
   "source": [
    "<p style=\"align: center;\"><img align=center src=\"https://proprikol.ru/wp-content/uploads/2020/11/kartinki-pokemonov-2.jpg\"  width=500></p>"
   ]
  },
  {
   "cell_type": "markdown",
   "id": "1810bfee",
   "metadata": {
    "id": "1810bfee"
   },
   "source": [
    "Покемоны - это маленькие существа, которые сражаются друг с другом на соревнованиях. Все покемоны имеют разные характеристики (сила атаки, защиты и т. д.) и относятся к одному или двум так называемым классам (вода, огонь и т. д.). Профессор Оук является изобретателем Pokedex, портативного устройства, которое хранит информацию обо всех существующих покемонах. Как его ведущий специалист по данным, Вы только что получили от него запрос с просьбой осуществить аналитику данных на всех устройствах Pokedex."
   ]
  },
  {
   "cell_type": "markdown",
   "id": "19045811",
   "metadata": {
    "id": "19045811"
   },
   "source": [
    "### Описание данных\n",
    "\n",
    "Профессор Оук скопировал все содержимое память одного устройства Pokedex, в результате чего получился набор данных, с которым Вы будете работать в этой задаче. В этом файле каждая строка представляет характеристики одного покемона:\n",
    "\n",
    "* pid: Numeric - ID покемона\n",
    "* HP: Numeric - Очки здоровья\n",
    "* Attack: Numeric - Сила обычной атаки\n",
    "* Defense: Numeric - Сила обычной защиты\n",
    "* Sp. Atk: Numeric - Сила специальной атаки\n",
    "* Sp. Def: Numeric - Сила специальной защиты\n",
    "* Speed: Numeric - Скорость движений\n",
    "* Legendary: Boolean - «True», если покемон редкий\n",
    "* Class 1: Categorical - Класс покемона\n",
    "* Class 2: Categorical - Класс покемона"
   ]
  },
  {
   "cell_type": "code",
   "execution_count": 15,
   "id": "7914be5e",
   "metadata": {},
   "outputs": [
    {
     "data": {
      "text/html": [
       "<div>\n",
       "<style scoped>\n",
       "    .dataframe tbody tr th:only-of-type {\n",
       "        vertical-align: middle;\n",
       "    }\n",
       "\n",
       "    .dataframe tbody tr th {\n",
       "        vertical-align: top;\n",
       "    }\n",
       "\n",
       "    .dataframe thead th {\n",
       "        text-align: right;\n",
       "    }\n",
       "</style>\n",
       "<table border=\"1\" class=\"dataframe\">\n",
       "  <thead>\n",
       "    <tr style=\"text-align: right;\">\n",
       "      <th></th>\n",
       "      <th>pid</th>\n",
       "      <th>Name</th>\n",
       "      <th>Class 1</th>\n",
       "      <th>Class 2</th>\n",
       "      <th>HP</th>\n",
       "      <th>Attack</th>\n",
       "      <th>Defense</th>\n",
       "      <th>Sp. Atk</th>\n",
       "      <th>Sp. Def</th>\n",
       "      <th>Speed</th>\n",
       "      <th>Legendary</th>\n",
       "    </tr>\n",
       "  </thead>\n",
       "  <tbody>\n",
       "    <tr>\n",
       "      <th>0</th>\n",
       "      <td>1</td>\n",
       "      <td>Bulbasaur</td>\n",
       "      <td>Grass</td>\n",
       "      <td>Poison</td>\n",
       "      <td>45</td>\n",
       "      <td>49</td>\n",
       "      <td>49</td>\n",
       "      <td>65</td>\n",
       "      <td>65</td>\n",
       "      <td>45</td>\n",
       "      <td>False</td>\n",
       "    </tr>\n",
       "    <tr>\n",
       "      <th>1</th>\n",
       "      <td>2</td>\n",
       "      <td>Ivysaur</td>\n",
       "      <td>Grass</td>\n",
       "      <td>Poison</td>\n",
       "      <td>60</td>\n",
       "      <td>62</td>\n",
       "      <td>63</td>\n",
       "      <td>80</td>\n",
       "      <td>80</td>\n",
       "      <td>60</td>\n",
       "      <td>False</td>\n",
       "    </tr>\n",
       "    <tr>\n",
       "      <th>2</th>\n",
       "      <td>3</td>\n",
       "      <td>Venusaur</td>\n",
       "      <td>Grass</td>\n",
       "      <td>Poison</td>\n",
       "      <td>80</td>\n",
       "      <td>82</td>\n",
       "      <td>83</td>\n",
       "      <td>100</td>\n",
       "      <td>100</td>\n",
       "      <td>80</td>\n",
       "      <td>False</td>\n",
       "    </tr>\n",
       "    <tr>\n",
       "      <th>3</th>\n",
       "      <td>4</td>\n",
       "      <td>Mega Venusaur</td>\n",
       "      <td>Grass</td>\n",
       "      <td>Poison</td>\n",
       "      <td>80</td>\n",
       "      <td>100</td>\n",
       "      <td>123</td>\n",
       "      <td>122</td>\n",
       "      <td>120</td>\n",
       "      <td>80</td>\n",
       "      <td>False</td>\n",
       "    </tr>\n",
       "    <tr>\n",
       "      <th>4</th>\n",
       "      <td>5</td>\n",
       "      <td>Charmander</td>\n",
       "      <td>Fire</td>\n",
       "      <td>NaN</td>\n",
       "      <td>39</td>\n",
       "      <td>52</td>\n",
       "      <td>43</td>\n",
       "      <td>60</td>\n",
       "      <td>50</td>\n",
       "      <td>65</td>\n",
       "      <td>False</td>\n",
       "    </tr>\n",
       "  </tbody>\n",
       "</table>\n",
       "</div>"
      ],
      "text/plain": [
       "   pid           Name Class 1 Class 2  HP  Attack  Defense  Sp. Atk  Sp. Def  \\\n",
       "0    1      Bulbasaur   Grass  Poison  45      49       49       65       65   \n",
       "1    2        Ivysaur   Grass  Poison  60      62       63       80       80   \n",
       "2    3       Venusaur   Grass  Poison  80      82       83      100      100   \n",
       "3    4  Mega Venusaur   Grass  Poison  80     100      123      122      120   \n",
       "4    5     Charmander    Fire     NaN  39      52       43       60       50   \n",
       "\n",
       "   Speed  Legendary  \n",
       "0     45      False  \n",
       "1     60      False  \n",
       "2     80      False  \n",
       "3     80      False  \n",
       "4     65      False  "
      ]
     },
     "execution_count": 15,
     "metadata": {},
     "output_type": "execute_result"
    }
   ],
   "source": [
    "dfpokemon = pd.read_csv('pokemon.csv')\n",
    "dfpokemon.head()"
   ]
  },
  {
   "cell_type": "code",
   "execution_count": 16,
   "id": "57d83645",
   "metadata": {},
   "outputs": [
    {
     "name": "stdout",
     "output_type": "stream",
     "text": [
      "<class 'pandas.core.frame.DataFrame'>\n",
      "RangeIndex: 800 entries, 0 to 799\n",
      "Data columns (total 11 columns):\n",
      " #   Column     Non-Null Count  Dtype \n",
      "---  ------     --------------  ----- \n",
      " 0   pid        800 non-null    int64 \n",
      " 1   Name       799 non-null    object\n",
      " 2   Class 1    800 non-null    object\n",
      " 3   Class 2    414 non-null    object\n",
      " 4   HP         800 non-null    int64 \n",
      " 5   Attack     800 non-null    int64 \n",
      " 6   Defense    800 non-null    int64 \n",
      " 7   Sp. Atk    800 non-null    int64 \n",
      " 8   Sp. Def    800 non-null    int64 \n",
      " 9   Speed      800 non-null    int64 \n",
      " 10  Legendary  800 non-null    bool  \n",
      "dtypes: bool(1), int64(7), object(3)\n",
      "memory usage: 63.4+ KB\n"
     ]
    }
   ],
   "source": [
    "dfpokemon.info()"
   ]
  },
  {
   "cell_type": "markdown",
   "id": "216b24ea",
   "metadata": {
    "id": "216b24ea"
   },
   "source": [
    "### Вопрос 1"
   ]
  },
  {
   "cell_type": "markdown",
   "id": "83dadefc",
   "metadata": {
    "id": "83dadefc"
   },
   "source": [
    "Профессор Оук подозревает, что покемоны в классе `grass` имеют более сильную обычную атаку, чем у покемонов в классе `rock`. Проверьте, прав ли он, и убедите его в своем выводе статистически. "
   ]
  },
  {
   "cell_type": "code",
   "execution_count": 17,
   "id": "57ce0a8a",
   "metadata": {},
   "outputs": [
    {
     "data": {
      "text/plain": [
       "<AxesSubplot:xlabel='Attack', ylabel='Density'>"
      ]
     },
     "execution_count": 17,
     "metadata": {},
     "output_type": "execute_result"
    },
    {
     "data": {
      "image/png": "[encoded data removed]",
      "text/plain": [
       "<Figure size 432x288 with 1 Axes>"
      ]
     },
     "metadata": {
      "needs_background": "light"
     },
     "output_type": "display_data"
    }
   ],
   "source": [
    "sns.kdeplot(dfpokemon['Attack'])"
   ]
  },
  {
   "cell_type": "markdown",
   "id": "1accfb5f",
   "metadata": {},
   "source": [
    "Как видно по графику, переменная имеет распределение, близкое к нормальному."
   ]
  },
  {
   "cell_type": "markdown",
   "id": "f6029977",
   "metadata": {},
   "source": [
    "Сформулируем статистические гипотезы:\n",
    "\n",
    "H0: m1 = m2 (среднее значение атаки для классов равны)\n",
    "\n",
    "H1: m1>m2 (среднее значение атаки для класса grass выше, чем для класса rock)\n",
    "\n",
    "Гипотезы будем проверять на уровне значимости 5%\n",
    "\n",
    "Для этого используем Т-критерий, так как переменная распределена по нормальному закону, выборки независимые."
   ]
  },
  {
   "cell_type": "code",
   "execution_count": 18,
   "id": "fb6a5007",
   "metadata": {
    "id": "fb6a5007"
   },
   "outputs": [
    {
     "data": {
      "text/plain": [
       "Ttest_indResult(statistic=-3.315895277064196, pvalue=0.9993424279122299)"
      ]
     },
     "execution_count": 18,
     "metadata": {},
     "output_type": "execute_result"
    }
   ],
   "source": [
    "### ╰( ͡° ͜ʖ ͡° )つ──☆ сотворите статистическую магию\n",
    "atgrass = np.array(dfpokemon[(dfpokemon['Class 1']=='Grass')|(dfpokemon['Class 2']=='Grass')]['Attack'])\n",
    "atrock = np.array(dfpokemon[(dfpokemon['Class 1']=='Rock')|(dfpokemon['Class 2']=='Rock')]['Attack'])\n",
    "\n",
    "stats.ttest_ind(atgrass, atrock, equal_var=False, alternative='greater')"
   ]
  },
  {
   "cell_type": "markdown",
   "id": "521c4d9f",
   "metadata": {},
   "source": [
    "Значение p-value получилось равное 0.999. p-value > 0.05 следовательно мы не отвергаем нашу гипотезу о том, что среднее значение атаки для классов grass и rock равны. Тогда с 95% доверительной вероятностью Профессор Оук не прав и покемоны grass не сильнее покемонов rock."
   ]
  },
  {
   "cell_type": "markdown",
   "id": "efe3805e",
   "metadata": {
    "id": "efe3805e"
   },
   "source": [
    "### Вопрос 2"
   ]
  },
  {
   "cell_type": "markdown",
   "id": "baeb5aeb",
   "metadata": {
    "id": "baeb5aeb"
   },
   "source": [
    "Также профессор Оук очень хочет проверить, правда ли нет значимой разницы между силой обычной атаки и силой обычной защиты у покемонов. Помогите ему и ответьте на вопрос, подтвердив свои выводы с помощью проверки статистических гипотез"
   ]
  },
  {
   "cell_type": "code",
   "execution_count": 19,
   "id": "c51558f6",
   "metadata": {},
   "outputs": [
    {
     "data": {
      "text/plain": [
       "<AxesSubplot:xlabel='Defense', ylabel='Density'>"
      ]
     },
     "execution_count": 19,
     "metadata": {},
     "output_type": "execute_result"
    },
    {
     "data": {
      "image/png": "[encoded data removed]",
      "text/plain": [
       "<Figure size 432x288 with 1 Axes>"
      ]
     },
     "metadata": {
      "needs_background": "light"
     },
     "output_type": "display_data"
    }
   ],
   "source": [
    "sns.kdeplot(dfpokemon['Defense'])"
   ]
  },
  {
   "cell_type": "markdown",
   "id": "991ecba4",
   "metadata": {},
   "source": [
    "Переменная Defense тоже имеет распределение, близкое к нормальному"
   ]
  },
  {
   "cell_type": "markdown",
   "id": "63b7691e",
   "metadata": {},
   "source": [
    "Сформулируем статистические гипотезы:\n",
    "\n",
    "H0: m1 = m2 (сила обычной атаки равна силе обычной защиты у покемонов, то есть значимой разницы между ними нет)\n",
    "\n",
    "H1: m1 != m2 (сила обычной атаки и обычной защиты не равны, то есть значимая разница есть)\n",
    "\n",
    "Проверять гипотезы будем на уровне значимости 5%\n",
    "\n",
    "Для проверки используем T-тест для независимых выборок, так как переменные распределены по нормальному закону."
   ]
  },
  {
   "cell_type": "code",
   "execution_count": 20,
   "id": "a8ae940e",
   "metadata": {
    "id": "a8ae940e"
   },
   "outputs": [
    {
     "data": {
      "text/plain": [
       "Ttest_indResult(statistic=3.2417640740423126, pvalue=0.0012124374824544375)"
      ]
     },
     "execution_count": 20,
     "metadata": {},
     "output_type": "execute_result"
    }
   ],
   "source": [
    "### ╰( ͡° ͜ʖ ͡° )つ──☆ сотворите статистическую магию\n",
    "\n",
    "attack = np.array(dfpokemon['Attack'])\n",
    "defense = np.array(dfpokemon['Defense'])\n",
    "\n",
    "stats.ttest_ind(attack, defense, equal_var=False, alternative='two-sided')"
   ]
  },
  {
   "cell_type": "markdown",
   "id": "ca3fd74b",
   "metadata": {},
   "source": [
    "P-value оказался равен 0.001. p-value < 0.05 следовательно мы отвергаем нулевую гипотезу H0 в пользу альтернативной H1 о том, что сила обычной атаки и обычной защиты у покемонов не равны. С доверительной вероятностью 95% существует значимая разница между силой обычной атаки и защиты."
   ]
  },
  {
   "cell_type": "markdown",
   "id": "55c372da",
   "metadata": {
    "id": "55c372da"
   },
   "source": [
    "### Вопрос 3"
   ]
  },
  {
   "cell_type": "markdown",
   "id": "781cbb94",
   "metadata": {
    "id": "781cbb94"
   },
   "source": [
    "И последний вопрос, который мучает профессора Оука: правда ли, что средняя скорость покемонов превышает 66.6 ? Сформулируйте подходящие гипотезы и помогите профессору Оуку, ответив на вопрос."
   ]
  },
  {
   "cell_type": "code",
   "execution_count": 74,
   "id": "df8927f3",
   "metadata": {},
   "outputs": [
    {
     "data": {
      "text/plain": [
       "<AxesSubplot:xlabel='Speed', ylabel='Density'>"
      ]
     },
     "execution_count": 74,
     "metadata": {},
     "output_type": "execute_result"
    },
    {
     "data": {
      "image/png": "[encoded data removed]",
      "text/plain": [
       "<Figure size 432x288 with 1 Axes>"
      ]
     },
     "metadata": {
      "needs_background": "light"
     },
     "output_type": "display_data"
    }
   ],
   "source": [
    "sns.kdeplot(dfpokemon['Speed'])"
   ]
  },
  {
   "cell_type": "markdown",
   "id": "59d76eb5",
   "metadata": {},
   "source": [
    "Как видно по графику, переменная Speed распределена не по нормальному закону, поэтому для анализа будем использовать непараметрические критерии, а для сравнения будем брать не средние, а медианные значения."
   ]
  },
  {
   "cell_type": "markdown",
   "id": "3b3f3867",
   "metadata": {},
   "source": [
    "Сформулируем статистические гипотезы:\n",
    "\n",
    "H0: m = 66.6 (средняя(медианная) скорость покемонов равна 66.6)\n",
    "\n",
    "H1: m > 66.6 (средняя(медианная) скорость покемонов выше 66.6)\n",
    "\n",
    "Проверять гипотезы будем на уровне значимости 5%\n",
    "\n",
    "Для этого используем критерий знаков, проверяющий гипотезу о равенстве медианы заданному значению"
   ]
  },
  {
   "cell_type": "code",
   "execution_count": 21,
   "id": "aefbfc32",
   "metadata": {
    "id": "aefbfc32"
   },
   "outputs": [
    {
     "name": "stdout",
     "output_type": "stream",
     "text": [
      "-14.0 0.33978752327776385\n"
     ]
    }
   ],
   "source": [
    "### ╰( ͡° ͜ʖ ͡° )つ──☆ сотворите статистическую магию\n",
    "speed = np.array(dfpokemon['Speed'])\n",
    "\n",
    "statistic, pval = sign_test(speed, mu0=66.6)\n",
    "print(statistic, pval)"
   ]
  },
  {
   "cell_type": "code",
   "execution_count": 22,
   "id": "a875d7f7",
   "metadata": {},
   "outputs": [
    {
     "data": {
      "text/plain": [
       "0.16989376163888192"
      ]
     },
     "execution_count": 22,
     "metadata": {},
     "output_type": "execute_result"
    }
   ],
   "source": [
    "pval/2 # т.к. наша гипотеза односторонняя, а sign_test проверяет двустороннюю, делим p-value на 2"
   ]
  },
  {
   "cell_type": "markdown",
   "id": "1b858a8f",
   "metadata": {},
   "source": [
    "P-value окказалось равно 0.169. P-value > 0.05, следовательно мы не отвергаем нашу нулевую гипотезу о том, что средняя скорость равна 66.6. Таким образом, с доверительной вероятность 95% средняя скорость покемонов не превышает 66.6"
   ]
  }
 ],
 "metadata": {
  "colab": {
   "name": "DZ3_DS.ipynb",
   "provenance": []
  },
  "kernelspec": {
   "display_name": "Python 3 (ipykernel)",
   "language": "python",
   "name": "python3"
  },
  "language_info": {
   "codemirror_mode": {
    "name": "ipython",
    "version": 3
   },
   "file_extension": ".py",
   "mimetype": "text/x-python",
   "name": "python",
   "nbconvert_exporter": "python",
   "pygments_lexer": "ipython3",
   "version": "3.10.4"
  }
 },
 "nbformat": 4,
 "nbformat_minor": 5
}
