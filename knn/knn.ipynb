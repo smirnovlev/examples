{
 "cells": [
  {
   "cell_type": "code",
   "execution_count": 1,
   "metadata": {},
   "outputs": [],
   "source": [
    "import pandas as pd\n",
    "import seaborn as sns\n",
    "import numpy as np\n",
    "import matplotlib.pyplot as plt"
   ]
  },
  {
   "cell_type": "markdown",
   "metadata": {},
   "source": [
    " ---"
   ]
  },
  {
   "cell_type": "markdown",
   "metadata": {},
   "source": [
    "В этом задании будем предсказывать удовлетворенность студентов их программой (`LikeDegree`). Скачайте  Student_Behaviour.csv, содержащую информацию о студентов бакалавриата.\n"
   ]
  },
  {
   "cell_type": "markdown",
   "metadata": {},
   "source": [
    "### Часть 1: Исследуем данные\n",
    "**Задание 1.** Загрузите данные из файла Student_Behaviour.csv. Выведите первые 5 строк таблицы."
   ]
  },
  {
   "cell_type": "code",
   "execution_count": 2,
   "metadata": {},
   "outputs": [
    {
     "data": {
      "text/html": [
       "<div>\n",
       "<style scoped>\n",
       "    .dataframe tbody tr th:only-of-type {\n",
       "        vertical-align: middle;\n",
       "    }\n",
       "\n",
       "    .dataframe tbody tr th {\n",
       "        vertical-align: top;\n",
       "    }\n",
       "\n",
       "    .dataframe thead th {\n",
       "        text-align: right;\n",
       "    }\n",
       "</style>\n",
       "<table border=\"1\" class=\"dataframe\">\n",
       "  <thead>\n",
       "    <tr style=\"text-align: right;\">\n",
       "      <th></th>\n",
       "      <th>CertificationCourses</th>\n",
       "      <th>Gender</th>\n",
       "      <th>Department</th>\n",
       "      <th>Height(CM)</th>\n",
       "      <th>Weight(KG)</th>\n",
       "      <th>10Mark</th>\n",
       "      <th>12Mark</th>\n",
       "      <th>CollegeMark</th>\n",
       "      <th>Hobbies</th>\n",
       "      <th>DailyStudingTime</th>\n",
       "      <th>PreferToStudyIn</th>\n",
       "      <th>SalaryExpectation</th>\n",
       "      <th>LikeDegree</th>\n",
       "      <th>CareerBasedonDegree</th>\n",
       "      <th>GamesSpendingTime</th>\n",
       "      <th>TravellingTime</th>\n",
       "      <th>StressLevel</th>\n",
       "      <th>FinancialStatus</th>\n",
       "      <th>PartTimeJob?</th>\n",
       "    </tr>\n",
       "  </thead>\n",
       "  <tbody>\n",
       "    <tr>\n",
       "      <th>0</th>\n",
       "      <td>No</td>\n",
       "      <td>Male</td>\n",
       "      <td>BCA</td>\n",
       "      <td>100.0</td>\n",
       "      <td>58.0</td>\n",
       "      <td>79.0</td>\n",
       "      <td>65.0</td>\n",
       "      <td>80.0</td>\n",
       "      <td>Video Games</td>\n",
       "      <td>0 - 30 minute</td>\n",
       "      <td>Morning</td>\n",
       "      <td>40000</td>\n",
       "      <td>No</td>\n",
       "      <td>50%</td>\n",
       "      <td>1.30 - 2 hour</td>\n",
       "      <td>30 - 60 minutes</td>\n",
       "      <td>Bad</td>\n",
       "      <td>Bad</td>\n",
       "      <td>No</td>\n",
       "    </tr>\n",
       "    <tr>\n",
       "      <th>1</th>\n",
       "      <td>No</td>\n",
       "      <td>Female</td>\n",
       "      <td>BCA</td>\n",
       "      <td>90.0</td>\n",
       "      <td>40.0</td>\n",
       "      <td>70.0</td>\n",
       "      <td>80.0</td>\n",
       "      <td>70.0</td>\n",
       "      <td>Cinema</td>\n",
       "      <td>30 - 60 minute</td>\n",
       "      <td>Morning</td>\n",
       "      <td>15000</td>\n",
       "      <td>Yes</td>\n",
       "      <td>75%</td>\n",
       "      <td>1 - 1.30 hour</td>\n",
       "      <td>0 - 30 minutes</td>\n",
       "      <td>Bad</td>\n",
       "      <td>Bad</td>\n",
       "      <td>No</td>\n",
       "    </tr>\n",
       "    <tr>\n",
       "      <th>2</th>\n",
       "      <td>Yes</td>\n",
       "      <td>Male</td>\n",
       "      <td>BCA</td>\n",
       "      <td>159.0</td>\n",
       "      <td>78.0</td>\n",
       "      <td>69.5</td>\n",
       "      <td>61.0</td>\n",
       "      <td>55.0</td>\n",
       "      <td>Cinema</td>\n",
       "      <td>1 - 2 Hour</td>\n",
       "      <td>Anytime</td>\n",
       "      <td>13000</td>\n",
       "      <td>Yes</td>\n",
       "      <td>50%</td>\n",
       "      <td>More than 2 hour</td>\n",
       "      <td>30 - 60 minutes</td>\n",
       "      <td>Awful</td>\n",
       "      <td>Bad</td>\n",
       "      <td>No</td>\n",
       "    </tr>\n",
       "    <tr>\n",
       "      <th>3</th>\n",
       "      <td>Yes</td>\n",
       "      <td>Female</td>\n",
       "      <td>BCA</td>\n",
       "      <td>147.0</td>\n",
       "      <td>20.0</td>\n",
       "      <td>70.0</td>\n",
       "      <td>59.0</td>\n",
       "      <td>58.0</td>\n",
       "      <td>Reading books</td>\n",
       "      <td>1 - 2 Hour</td>\n",
       "      <td>Anytime</td>\n",
       "      <td>1500000</td>\n",
       "      <td>No</td>\n",
       "      <td>50%</td>\n",
       "      <td>1.30 - 2 hour</td>\n",
       "      <td>0 - 30 minutes</td>\n",
       "      <td>Bad</td>\n",
       "      <td>good</td>\n",
       "      <td>No</td>\n",
       "    </tr>\n",
       "    <tr>\n",
       "      <th>4</th>\n",
       "      <td>No</td>\n",
       "      <td>Male</td>\n",
       "      <td>BCA</td>\n",
       "      <td>170.0</td>\n",
       "      <td>54.0</td>\n",
       "      <td>40.0</td>\n",
       "      <td>65.0</td>\n",
       "      <td>30.0</td>\n",
       "      <td>Video Games</td>\n",
       "      <td>30 - 60 minute</td>\n",
       "      <td>Morning</td>\n",
       "      <td>50000</td>\n",
       "      <td>Yes</td>\n",
       "      <td>25%</td>\n",
       "      <td>1.30 - 2 hour</td>\n",
       "      <td>30 - 60 minutes</td>\n",
       "      <td>Good</td>\n",
       "      <td>good</td>\n",
       "      <td>No</td>\n",
       "    </tr>\n",
       "  </tbody>\n",
       "</table>\n",
       "</div>"
      ],
      "text/plain": [
       "  CertificationCourses  Gender Department  Height(CM)  Weight(KG)  10Mark  \\\n",
       "0                   No    Male        BCA       100.0        58.0    79.0   \n",
       "1                   No  Female        BCA        90.0        40.0    70.0   \n",
       "2                  Yes    Male        BCA       159.0        78.0    69.5   \n",
       "3                  Yes  Female        BCA       147.0        20.0    70.0   \n",
       "4                   No    Male        BCA       170.0        54.0    40.0   \n",
       "\n",
       "   12Mark  CollegeMark        Hobbies DailyStudingTime PreferToStudyIn  \\\n",
       "0    65.0         80.0    Video Games    0 - 30 minute         Morning   \n",
       "1    80.0         70.0         Cinema   30 - 60 minute         Morning   \n",
       "2    61.0         55.0         Cinema       1 - 2 Hour         Anytime   \n",
       "3    59.0         58.0  Reading books       1 - 2 Hour         Anytime   \n",
       "4    65.0         30.0    Video Games   30 - 60 minute         Morning   \n",
       "\n",
       "   SalaryExpectation LikeDegree CareerBasedonDegree GamesSpendingTime  \\\n",
       "0              40000         No                 50%     1.30 - 2 hour   \n",
       "1              15000        Yes                 75%     1 - 1.30 hour   \n",
       "2              13000        Yes                 50%  More than 2 hour   \n",
       "3            1500000         No                 50%     1.30 - 2 hour   \n",
       "4              50000        Yes                 25%     1.30 - 2 hour   \n",
       "\n",
       "   TravellingTime  StressLevel  FinancialStatus PartTimeJob?  \n",
       "0  30 - 60 minutes          Bad             Bad           No  \n",
       "1   0 - 30 minutes          Bad             Bad           No  \n",
       "2  30 - 60 minutes        Awful             Bad           No  \n",
       "3   0 - 30 minutes          Bad            good           No  \n",
       "4  30 - 60 minutes         Good            good           No  "
      ]
     },
     "execution_count": 2,
     "metadata": {},
     "output_type": "execute_result"
    }
   ],
   "source": [
    "df = pd.read_csv('Student_Behaviour.csv')\n",
    "df.head()"
   ]
  },
  {
   "cell_type": "markdown",
   "metadata": {},
   "source": [
    "**Задание 2.** Проверьте колонки на наличие пропусков, избавьтесь их. "
   ]
  },
  {
   "cell_type": "code",
   "execution_count": 3,
   "metadata": {},
   "outputs": [
    {
     "data": {
      "text/plain": [
       "CertificationCourses    0\n",
       "Gender                  0\n",
       "Department              0\n",
       "Height(CM)              0\n",
       "Weight(KG)              0\n",
       "10Mark                  0\n",
       "12Mark                  0\n",
       "CollegeMark             0\n",
       "Hobbies                 0\n",
       "DailyStudingTime        0\n",
       "PreferToStudyIn         0\n",
       "SalaryExpectation       0\n",
       "LikeDegree              0\n",
       "CareerBasedonDegree     0\n",
       "GamesSpendingTime       0\n",
       "TravellingTime          0\n",
       "StressLevel             0\n",
       "FinancialStatus         0\n",
       "PartTimeJob?            0\n",
       "dtype: int64"
      ]
     },
     "execution_count": 3,
     "metadata": {},
     "output_type": "execute_result"
    }
   ],
   "source": [
    "df.isnull().sum() #пропусков не оказалось"
   ]
  },
  {
   "cell_type": "markdown",
   "metadata": {},
   "source": [
    "**Задание 3.**  Колонку `CareerBasedonDegree` приведите к числовому виду."
   ]
  },
  {
   "cell_type": "code",
   "execution_count": 4,
   "metadata": {},
   "outputs": [
    {
     "data": {
      "text/html": [
       "<div>\n",
       "<style scoped>\n",
       "    .dataframe tbody tr th:only-of-type {\n",
       "        vertical-align: middle;\n",
       "    }\n",
       "\n",
       "    .dataframe tbody tr th {\n",
       "        vertical-align: top;\n",
       "    }\n",
       "\n",
       "    .dataframe thead th {\n",
       "        text-align: right;\n",
       "    }\n",
       "</style>\n",
       "<table border=\"1\" class=\"dataframe\">\n",
       "  <thead>\n",
       "    <tr style=\"text-align: right;\">\n",
       "      <th></th>\n",
       "      <th>CertificationCourses</th>\n",
       "      <th>Gender</th>\n",
       "      <th>Department</th>\n",
       "      <th>Height(CM)</th>\n",
       "      <th>Weight(KG)</th>\n",
       "      <th>10Mark</th>\n",
       "      <th>12Mark</th>\n",
       "      <th>CollegeMark</th>\n",
       "      <th>Hobbies</th>\n",
       "      <th>DailyStudingTime</th>\n",
       "      <th>PreferToStudyIn</th>\n",
       "      <th>SalaryExpectation</th>\n",
       "      <th>LikeDegree</th>\n",
       "      <th>CareerBasedonDegree</th>\n",
       "      <th>GamesSpendingTime</th>\n",
       "      <th>TravellingTime</th>\n",
       "      <th>StressLevel</th>\n",
       "      <th>FinancialStatus</th>\n",
       "      <th>PartTimeJob?</th>\n",
       "    </tr>\n",
       "  </thead>\n",
       "  <tbody>\n",
       "    <tr>\n",
       "      <th>0</th>\n",
       "      <td>No</td>\n",
       "      <td>Male</td>\n",
       "      <td>BCA</td>\n",
       "      <td>100.0</td>\n",
       "      <td>58.0</td>\n",
       "      <td>79.0</td>\n",
       "      <td>65.0</td>\n",
       "      <td>80.0</td>\n",
       "      <td>Video Games</td>\n",
       "      <td>0 - 30 minute</td>\n",
       "      <td>Morning</td>\n",
       "      <td>40000</td>\n",
       "      <td>No</td>\n",
       "      <td>0.50</td>\n",
       "      <td>1.30 - 2 hour</td>\n",
       "      <td>30 - 60 minutes</td>\n",
       "      <td>Bad</td>\n",
       "      <td>Bad</td>\n",
       "      <td>No</td>\n",
       "    </tr>\n",
       "    <tr>\n",
       "      <th>1</th>\n",
       "      <td>No</td>\n",
       "      <td>Female</td>\n",
       "      <td>BCA</td>\n",
       "      <td>90.0</td>\n",
       "      <td>40.0</td>\n",
       "      <td>70.0</td>\n",
       "      <td>80.0</td>\n",
       "      <td>70.0</td>\n",
       "      <td>Cinema</td>\n",
       "      <td>30 - 60 minute</td>\n",
       "      <td>Morning</td>\n",
       "      <td>15000</td>\n",
       "      <td>Yes</td>\n",
       "      <td>0.75</td>\n",
       "      <td>1 - 1.30 hour</td>\n",
       "      <td>0 - 30 minutes</td>\n",
       "      <td>Bad</td>\n",
       "      <td>Bad</td>\n",
       "      <td>No</td>\n",
       "    </tr>\n",
       "    <tr>\n",
       "      <th>2</th>\n",
       "      <td>Yes</td>\n",
       "      <td>Male</td>\n",
       "      <td>BCA</td>\n",
       "      <td>159.0</td>\n",
       "      <td>78.0</td>\n",
       "      <td>69.5</td>\n",
       "      <td>61.0</td>\n",
       "      <td>55.0</td>\n",
       "      <td>Cinema</td>\n",
       "      <td>1 - 2 Hour</td>\n",
       "      <td>Anytime</td>\n",
       "      <td>13000</td>\n",
       "      <td>Yes</td>\n",
       "      <td>0.50</td>\n",
       "      <td>More than 2 hour</td>\n",
       "      <td>30 - 60 minutes</td>\n",
       "      <td>Awful</td>\n",
       "      <td>Bad</td>\n",
       "      <td>No</td>\n",
       "    </tr>\n",
       "    <tr>\n",
       "      <th>3</th>\n",
       "      <td>Yes</td>\n",
       "      <td>Female</td>\n",
       "      <td>BCA</td>\n",
       "      <td>147.0</td>\n",
       "      <td>20.0</td>\n",
       "      <td>70.0</td>\n",
       "      <td>59.0</td>\n",
       "      <td>58.0</td>\n",
       "      <td>Reading books</td>\n",
       "      <td>1 - 2 Hour</td>\n",
       "      <td>Anytime</td>\n",
       "      <td>1500000</td>\n",
       "      <td>No</td>\n",
       "      <td>0.50</td>\n",
       "      <td>1.30 - 2 hour</td>\n",
       "      <td>0 - 30 minutes</td>\n",
       "      <td>Bad</td>\n",
       "      <td>good</td>\n",
       "      <td>No</td>\n",
       "    </tr>\n",
       "    <tr>\n",
       "      <th>4</th>\n",
       "      <td>No</td>\n",
       "      <td>Male</td>\n",
       "      <td>BCA</td>\n",
       "      <td>170.0</td>\n",
       "      <td>54.0</td>\n",
       "      <td>40.0</td>\n",
       "      <td>65.0</td>\n",
       "      <td>30.0</td>\n",
       "      <td>Video Games</td>\n",
       "      <td>30 - 60 minute</td>\n",
       "      <td>Morning</td>\n",
       "      <td>50000</td>\n",
       "      <td>Yes</td>\n",
       "      <td>0.25</td>\n",
       "      <td>1.30 - 2 hour</td>\n",
       "      <td>30 - 60 minutes</td>\n",
       "      <td>Good</td>\n",
       "      <td>good</td>\n",
       "      <td>No</td>\n",
       "    </tr>\n",
       "  </tbody>\n",
       "</table>\n",
       "</div>"
      ],
      "text/plain": [
       "  CertificationCourses  Gender Department  Height(CM)  Weight(KG)  10Mark  \\\n",
       "0                   No    Male        BCA       100.0        58.0    79.0   \n",
       "1                   No  Female        BCA        90.0        40.0    70.0   \n",
       "2                  Yes    Male        BCA       159.0        78.0    69.5   \n",
       "3                  Yes  Female        BCA       147.0        20.0    70.0   \n",
       "4                   No    Male        BCA       170.0        54.0    40.0   \n",
       "\n",
       "   12Mark  CollegeMark        Hobbies DailyStudingTime PreferToStudyIn  \\\n",
       "0    65.0         80.0    Video Games    0 - 30 minute         Morning   \n",
       "1    80.0         70.0         Cinema   30 - 60 minute         Morning   \n",
       "2    61.0         55.0         Cinema       1 - 2 Hour         Anytime   \n",
       "3    59.0         58.0  Reading books       1 - 2 Hour         Anytime   \n",
       "4    65.0         30.0    Video Games   30 - 60 minute         Morning   \n",
       "\n",
       "   SalaryExpectation LikeDegree  CareerBasedonDegree GamesSpendingTime  \\\n",
       "0              40000         No                 0.50     1.30 - 2 hour   \n",
       "1              15000        Yes                 0.75     1 - 1.30 hour   \n",
       "2              13000        Yes                 0.50  More than 2 hour   \n",
       "3            1500000         No                 0.50     1.30 - 2 hour   \n",
       "4              50000        Yes                 0.25     1.30 - 2 hour   \n",
       "\n",
       "   TravellingTime  StressLevel  FinancialStatus PartTimeJob?  \n",
       "0  30 - 60 minutes          Bad             Bad           No  \n",
       "1   0 - 30 minutes          Bad             Bad           No  \n",
       "2  30 - 60 minutes        Awful             Bad           No  \n",
       "3   0 - 30 minutes          Bad            good           No  \n",
       "4  30 - 60 minutes         Good            good           No  "
      ]
     },
     "execution_count": 4,
     "metadata": {},
     "output_type": "execute_result"
    }
   ],
   "source": [
    "df['CareerBasedonDegree']=df['CareerBasedonDegree'].map(lambda x: x.replace('%', ''))\n",
    "df['CareerBasedonDegree']=df['CareerBasedonDegree'].astype(float)\n",
    "df['CareerBasedonDegree']=df['CareerBasedonDegree'].map(lambda x: x/100)\n",
    "df.head()"
   ]
  },
  {
   "cell_type": "markdown",
   "metadata": {},
   "source": [
    "**Задание 4.**  В датасете есть 3 поля, с суффиксом `Time`, данные в них строковые, которые означают временной интервал. Извлеките минимальное время(левую границу интервала) для каждой из этих переменных и переведите в минуты, запишите в новые столбцы, удалите старые."
   ]
  },
  {
   "cell_type": "code",
   "execution_count": 5,
   "metadata": {},
   "outputs": [],
   "source": [
    "df['TravellingTime']=df['TravellingTime ']\n",
    "df = df.drop(columns=['TravellingTime '])"
   ]
  },
  {
   "cell_type": "code",
   "execution_count": 6,
   "metadata": {},
   "outputs": [
    {
     "name": "stdout",
     "output_type": "stream",
     "text": [
      "[ 90  60 120  30   1   0]\n",
      "[ 30   0  60 120  90 180 150]\n",
      "[  0  30  60 120 180 240]\n"
     ]
    }
   ],
   "source": [
    "zamena1={'1.30 - 2 hour': 90, '1 - 1.30 hour': 60, 'More than 2 hour': 120, '30 - 60 Minute': 30, '1 - 30 Minute': 1, '0 Minute': 0}\n",
    "zamena2={'30 - 60 minutes': 30, '0 - 30 minutes': 0, '1 - 1.30 hour': 60, '2 - 2.30 hour': 120, '1.30 - 2 hour': 90, 'more than 3 hour': 180, '2.30 - 3 hour': 150}\n",
    "zamena3={'0 - 30 minute': 0, '30 - 60 minute': 30, '1 - 2 Hour': 60, '2 - 3 hour': 120, '3 - 4 hour': 180, 'More Than 4 hour': 240}\n",
    "df['GamesSpendingTime']=df['GamesSpendingTime'].map(lambda x: zamena1.get(x))\n",
    "df['TravellingTime']=df['TravellingTime'].map(lambda x: zamena2.get(x))\n",
    "df['DailyStudingTime']=df['DailyStudingTime'].map(lambda x: zamena3.get(x))\n",
    "print(df.GamesSpendingTime.unique())\n",
    "print(df.TravellingTime.unique())\n",
    "print(df.DailyStudingTime.unique())\n"
   ]
  },
  {
   "cell_type": "markdown",
   "metadata": {},
   "source": [
    "**Задание 5.**  Выбрете колонки (непрерывные переменные), которые будете использовать для предсказания целевой переменной с помощью knn"
   ]
  },
  {
   "cell_type": "code",
   "execution_count": 7,
   "metadata": {},
   "outputs": [
    {
     "name": "stdout",
     "output_type": "stream",
     "text": [
      "<class 'pandas.core.frame.DataFrame'>\n",
      "RangeIndex: 235 entries, 0 to 234\n",
      "Data columns (total 19 columns):\n",
      " #   Column                Non-Null Count  Dtype  \n",
      "---  ------                --------------  -----  \n",
      " 0   CertificationCourses  235 non-null    object \n",
      " 1   Gender                235 non-null    object \n",
      " 2   Department            235 non-null    object \n",
      " 3   Height(CM)            235 non-null    float64\n",
      " 4   Weight(KG)            235 non-null    float64\n",
      " 5   10Mark                235 non-null    float64\n",
      " 6   12Mark                235 non-null    float64\n",
      " 7   CollegeMark           235 non-null    float64\n",
      " 8   Hobbies               235 non-null    object \n",
      " 9   DailyStudingTime      235 non-null    int64  \n",
      " 10  PreferToStudyIn       235 non-null    object \n",
      " 11  SalaryExpectation     235 non-null    int64  \n",
      " 12  LikeDegree            235 non-null    object \n",
      " 13  CareerBasedonDegree   235 non-null    float64\n",
      " 14  GamesSpendingTime     235 non-null    int64  \n",
      " 15  StressLevel           235 non-null    object \n",
      " 16  FinancialStatus       235 non-null    object \n",
      " 17  PartTimeJob?          235 non-null    object \n",
      " 18  TravellingTime        235 non-null    int64  \n",
      "dtypes: float64(6), int64(4), object(9)\n",
      "memory usage: 35.0+ KB\n"
     ]
    }
   ],
   "source": [
    "df.info() # для этого возьмём все количественные (float64 и int64) перменные"
   ]
  },
  {
   "cell_type": "code",
   "execution_count": 8,
   "metadata": {},
   "outputs": [],
   "source": [
    "X = ['Height(CM)', 'Weight(KG)', '10Mark', '12Mark', 'CollegeMark', 'DailyStudingTime', 'SalaryExpectation', \n",
    "        'CareerBasedonDegree', 'GamesSpendingTime', 'TravellingTime']"
   ]
  },
  {
   "cell_type": "markdown",
   "metadata": {},
   "source": [
    "**Задание 6.**  Есть ли в выбранных колонках выбросы? (Пока не нужно их чистить)"
   ]
  },
  {
   "cell_type": "code",
   "execution_count": 9,
   "metadata": {},
   "outputs": [
    {
     "data": {
      "text/plain": [
       "<AxesSubplot:>"
      ]
     },
     "execution_count": 9,
     "metadata": {},
     "output_type": "execute_result"
    },
    {
     "data": {
      "image/png": "[encoded data removed]",
      "text/plain": [
       "<Figure size 864x288 with 1 Axes>"
      ]
     },
     "metadata": {
      "needs_background": "light"
     },
     "output_type": "display_data"
    }
   ],
   "source": [
    "df[X].boxplot(figsize = (12, 4)) # как видно, выброси есть практически по каждой переменной"
   ]
  },
  {
   "cell_type": "markdown",
   "metadata": {},
   "source": [
    "**Задание 7.**  Как распределена целевая переменная? Нет ли дисбаланса классов? Если есть дисбаланс, какие метрики качества классификатора можно использовать, какие нет? Рассматриваем метрики, которые проходили в рамках курса."
   ]
  },
  {
   "cell_type": "code",
   "execution_count": 10,
   "metadata": {},
   "outputs": [
    {
     "data": {
      "text/plain": [
       "<AxesSubplot:>"
      ]
     },
     "execution_count": 10,
     "metadata": {},
     "output_type": "execute_result"
    },
    {
     "data": {
      "image/png": "[encoded data removed]",
      "text/plain": [
       "<Figure size 432x288 with 1 Axes>"
      ]
     },
     "metadata": {
      "needs_background": "light"
     },
     "output_type": "display_data"
    }
   ],
   "source": [
    "df['LikeDegree'].hist()"
   ]
  },
  {
   "cell_type": "code",
   "execution_count": 11,
   "metadata": {},
   "outputs": [
    {
     "data": {
      "text/plain": [
       "Yes    215\n",
       "No      20\n",
       "Name: LikeDegree, dtype: int64"
      ]
     },
     "execution_count": 11,
     "metadata": {},
     "output_type": "execute_result"
    }
   ],
   "source": [
    "df['LikeDegree'].value_counts().head()"
   ]
  },
  {
   "cell_type": "markdown",
   "metadata": {},
   "source": [
    "Это бинарная переменная, принимающая только 2 значение (Да/Нет), которая имеет бинамиальное распределение. На графике и по функции value_counts явно видно, что дисбаланс классов присутствует и подавляющее большинство студентов отвечают \"да\" (больше 90%). В таком случае мы не сможем использовать в качестве классификатора класса долю верно классифицированных объектов, так как в таком случае она становиться бесполезной (принять всех за 1 класс \"да\" может показать такие же результаты accuracy, а может даже выше). Остальные метрики, которые мы прошли в рамках курса (точность, полнота и f-measure) использовать будет корректно."
   ]
  },
  {
   "cell_type": "markdown",
   "metadata": {},
   "source": [
    "**Задание 8.**  Переведите целевую переменную к численному формату."
   ]
  },
  {
   "cell_type": "code",
   "execution_count": 12,
   "metadata": {},
   "outputs": [
    {
     "data": {
      "text/plain": [
       "array([0, 1], dtype=int64)"
      ]
     },
     "execution_count": 12,
     "metadata": {},
     "output_type": "execute_result"
    }
   ],
   "source": [
    "df['LikeDegree']=df['LikeDegree'].map(lambda x: 0 if x=='No' else 1)\n",
    "df.LikeDegree.unique()"
   ]
  },
  {
   "cell_type": "markdown",
   "metadata": {},
   "source": [
    "### Часть 2: Строим модели\n",
    "**Задание 1.** Разбейте выборку на обучающую и тестовую. "
   ]
  },
  {
   "cell_type": "code",
   "execution_count": 13,
   "metadata": {},
   "outputs": [],
   "source": [
    "y = ['LikeDegree']"
   ]
  },
  {
   "cell_type": "code",
   "execution_count": 14,
   "metadata": {},
   "outputs": [],
   "source": [
    "from sklearn.model_selection import train_test_split\n",
    "\n",
    "train, test = train_test_split(df, test_size = 0.2, random_state=10, stratify=df['LikeDegree'])"
   ]
  },
  {
   "cell_type": "markdown",
   "metadata": {},
   "source": [
    "**Задание 2.** Постройте наивную модель предсказания для целевой переменной. Наивная модель - это самая простая модель, без сложных зависимостей. Например, для регрессии наивная модель - среднее для целевой переменной (см. семинар 11). В данном случае наивной моделью может быть преположение \"все студенты (не)довольны\"."
   ]
  },
  {
   "cell_type": "code",
   "execution_count": 15,
   "metadata": {},
   "outputs": [
    {
     "data": {
      "text/plain": [
       "array([1., 1., 1., 1., 1., 1., 1., 1., 1., 1., 1., 1., 1., 1., 1., 1., 1.,\n",
       "       1., 1., 1., 1., 1., 1., 1., 1., 1., 1., 1., 1., 1., 1., 1., 1., 1.,\n",
       "       1., 1., 1., 1., 1., 1., 1., 1., 1., 1., 1., 1., 1.])"
      ]
     },
     "execution_count": 15,
     "metadata": {},
     "output_type": "execute_result"
    }
   ],
   "source": [
    "y_pred_naive = int(train.LikeDegree.mode().to_numpy()) * np.ones(len(test.LikeDegree))\n",
    "y_pred_naive"
   ]
  },
  {
   "cell_type": "markdown",
   "metadata": {},
   "source": [
    "**Задание 3.** Постройте модели ближайших соседей для 3, 5, 7 ближайших соседей. "
   ]
  },
  {
   "cell_type": "code",
   "execution_count": 16,
   "metadata": {},
   "outputs": [],
   "source": [
    "X_train = train[X]\n",
    "X_test = test[X]\n",
    "y_train = train.LikeDegree\n",
    "y_test = test.LikeDegree"
   ]
  },
  {
   "cell_type": "code",
   "execution_count": 17,
   "metadata": {},
   "outputs": [
    {
     "data": {
      "text/plain": [
       "array([1, 1, 1, 1, 1, 1, 1, 1, 1, 1, 1, 1, 1, 1, 1, 1, 1, 1, 1, 1, 1, 1,\n",
       "       1, 1, 1, 0, 1, 1, 1, 1, 1, 1, 1, 1, 1, 1, 1, 1, 1, 1, 1, 1, 1, 1,\n",
       "       1, 1, 1], dtype=int64)"
      ]
     },
     "execution_count": 17,
     "metadata": {},
     "output_type": "execute_result"
    }
   ],
   "source": [
    "from sklearn.neighbors import KNeighborsClassifier\n",
    "\n",
    "knn3 = KNeighborsClassifier(n_neighbors = 3)\n",
    "knn5 = KNeighborsClassifier(n_neighbors = 5)\n",
    "knn7 = KNeighborsClassifier(n_neighbors = 7)\n",
    "\n",
    "knn3.fit(X_train, y_train)\n",
    "\n",
    "y_pred_knn3 = knn3.predict(X_test)\n",
    "y_pred_knn3"
   ]
  },
  {
   "cell_type": "code",
   "execution_count": 18,
   "metadata": {},
   "outputs": [
    {
     "data": {
      "text/plain": [
       "array([1, 1, 1, 1, 1, 1, 1, 1, 1, 1, 1, 1, 1, 1, 1, 1, 1, 1, 1, 1, 1, 1,\n",
       "       1, 1, 1, 1, 1, 1, 1, 1, 1, 1, 1, 1, 1, 1, 1, 1, 1, 1, 1, 1, 1, 1,\n",
       "       1, 1, 1], dtype=int64)"
      ]
     },
     "execution_count": 18,
     "metadata": {},
     "output_type": "execute_result"
    }
   ],
   "source": [
    "knn5.fit(X_train, y_train)\n",
    "\n",
    "y_pred_knn5 = knn5.predict(X_test)\n",
    "y_pred_knn5"
   ]
  },
  {
   "cell_type": "code",
   "execution_count": 19,
   "metadata": {},
   "outputs": [
    {
     "data": {
      "text/plain": [
       "array([1, 1, 1, 1, 1, 1, 1, 1, 1, 1, 1, 1, 1, 1, 1, 1, 1, 1, 1, 1, 1, 1,\n",
       "       1, 1, 1, 1, 1, 1, 1, 1, 1, 1, 1, 1, 1, 1, 1, 1, 1, 1, 1, 1, 1, 1,\n",
       "       1, 1, 1], dtype=int64)"
      ]
     },
     "execution_count": 19,
     "metadata": {},
     "output_type": "execute_result"
    }
   ],
   "source": [
    "knn7.fit(X_train, y_train)\n",
    "\n",
    "y_pred_knn7 = knn7.predict(X_test)\n",
    "y_pred_knn7"
   ]
  },
  {
   "cell_type": "markdown",
   "metadata": {},
   "source": [
    "**Задание 4.** Постройте метрики качества на тестовой выборке (3 известных вам) для моделей из 1 и 2 задания и сравните между собой. Какая победила? "
   ]
  },
  {
   "cell_type": "code",
   "execution_count": 21,
   "metadata": {},
   "outputs": [
    {
     "name": "stdout",
     "output_type": "stream",
     "text": [
      "0.9148936170212766 1.0 0.9555555555555556\n"
     ]
    }
   ],
   "source": [
    "from sklearn.metrics import recall_score\n",
    "from sklearn.metrics import precision_score\n",
    "from sklearn.metrics import f1_score\n",
    "precision = precision_score(y_test, y_pred_naive)\n",
    "recall = recall_score(y_test, y_pred_naive)\n",
    "f1 = f1_score(y_test, y_pred_naive)\n",
    "print(precision, recall, f1)"
   ]
  },
  {
   "cell_type": "code",
   "execution_count": 22,
   "metadata": {},
   "outputs": [
    {
     "name": "stdout",
     "output_type": "stream",
     "text": [
      "0.9130434782608695 0.9767441860465116 0.9438202247191011\n"
     ]
    }
   ],
   "source": [
    "precision = precision_score(y_test, y_pred_knn3)\n",
    "recall = recall_score(y_test, y_pred_knn3)\n",
    "f1 = f1_score(y_test, y_pred_knn3)\n",
    "print(precision, recall, f1)"
   ]
  },
  {
   "cell_type": "code",
   "execution_count": 23,
   "metadata": {},
   "outputs": [
    {
     "name": "stdout",
     "output_type": "stream",
     "text": [
      "0.9148936170212766 1.0 0.9555555555555556\n"
     ]
    }
   ],
   "source": [
    "precision = precision_score(y_test, y_pred_knn5)\n",
    "recall = recall_score(y_test, y_pred_knn5)\n",
    "f1 = f1_score(y_test, y_pred_knn5)\n",
    "print(precision, recall, f1)"
   ]
  },
  {
   "cell_type": "code",
   "execution_count": 24,
   "metadata": {},
   "outputs": [
    {
     "name": "stdout",
     "output_type": "stream",
     "text": [
      "0.9148936170212766 1.0 0.9555555555555556\n"
     ]
    }
   ],
   "source": [
    "precision = precision_score(y_test, y_pred_knn7)\n",
    "recall = recall_score(y_test, y_pred_knn7)\n",
    "f1 = f1_score(y_test, y_pred_knn7)\n",
    "print(precision, recall, f1)"
   ]
  },
  {
   "cell_type": "markdown",
   "metadata": {},
   "source": [
    "Все метрики, кроме метода 3 ближайших соседей, показали одинаковые значения по каждому показателю на каждой тестовой выборке. В таком случае все они предсказывают с одинаковой точностью и победителя среди них нет. Выборка основанная на 3 ближайших соседях показала precision, recall и f-measure (то есть все метрики качества) хуже, чем в остальных (даже наивной). В таком случае победителя среди выборок нет, но есть аутсайдер."
   ]
  },
  {
   "cell_type": "markdown",
   "metadata": {},
   "source": [
    "**Задание 5.** Примените шкалирование (MinMax, обучите его на обучающей выборке к факторам, затем примените к тестовой), снова постройте модели для нескольких вариантов соседей (3, 5, 7). Помогло ли шкалирование? "
   ]
  },
  {
   "cell_type": "code",
   "execution_count": 25,
   "metadata": {},
   "outputs": [],
   "source": [
    "from sklearn.preprocessing import MinMaxScaler\n",
    "scaler = MinMaxScaler()\n",
    "scaler.fit(X_train)\n",
    "X_train_norm = scaler.transform(X_train) \n",
    "X_test_norm = scaler.transform(X_test)"
   ]
  },
  {
   "cell_type": "code",
   "execution_count": 26,
   "metadata": {},
   "outputs": [
    {
     "name": "stdout",
     "output_type": "stream",
     "text": [
      "[1 1 1 1 1 1 1 1 1 1 1 1 1 1 1 1 1 1 1 1 1 1 1 1 1 1 1 1 1 1 1 1 1 1 1 1 1\n",
      " 1 1 1 1 1 1 1 1 1 1]\n",
      "0.9148936170212766 1.0 0.9555555555555556\n"
     ]
    }
   ],
   "source": [
    "knn3.fit(X_train_norm, y_train)\n",
    "\n",
    "y_pred_knn3_norm = knn3.predict(X_test_norm)\n",
    "print(y_pred_knn3_norm)\n",
    "precision = precision_score(y_test, y_pred_knn3_norm)\n",
    "recall = recall_score(y_test, y_pred_knn3_norm)\n",
    "f1 = f1_score(y_test, y_pred_knn3_norm)\n",
    "print(precision, recall, f1)"
   ]
  },
  {
   "cell_type": "code",
   "execution_count": 27,
   "metadata": {},
   "outputs": [
    {
     "name": "stdout",
     "output_type": "stream",
     "text": [
      "[1 1 1 1 1 1 1 1 1 1 1 1 1 1 1 1 1 1 1 1 1 1 1 1 1 1 1 1 1 1 1 1 1 1 1 1 1\n",
      " 1 1 1 1 1 1 1 1 1 1]\n",
      "0.9148936170212766 1.0 0.9555555555555556\n"
     ]
    }
   ],
   "source": [
    "knn5.fit(X_train_norm, y_train)\n",
    "\n",
    "y_pred_knn5_norm = knn5.predict(X_test_norm)\n",
    "print(y_pred_knn5_norm)\n",
    "precision = precision_score(y_test, y_pred_knn5_norm)\n",
    "recall = recall_score(y_test, y_pred_knn5_norm)\n",
    "f1 = f1_score(y_test, y_pred_knn5)\n",
    "print(precision, recall, f1)"
   ]
  },
  {
   "cell_type": "code",
   "execution_count": 28,
   "metadata": {},
   "outputs": [
    {
     "name": "stdout",
     "output_type": "stream",
     "text": [
      "[1 1 1 1 1 1 1 1 1 1 1 1 1 1 1 1 1 1 1 1 1 1 1 1 1 1 1 1 1 1 1 1 1 1 1 1 1\n",
      " 1 1 1 1 1 1 1 1 1 1]\n",
      "0.9148936170212766 1.0 0.9555555555555556\n"
     ]
    }
   ],
   "source": [
    "knn7.fit(X_train_norm, y_train)\n",
    "\n",
    "y_pred_knn7_norm = knn7.predict(X_test_norm)\n",
    "print(y_pred_knn7_norm)\n",
    "precision = precision_score(y_test, y_pred_knn7)\n",
    "recall = recall_score(y_test, y_pred_knn7)\n",
    "f1 = f1_score(y_test, y_pred_knn7)\n",
    "print(precision, recall, f1)"
   ]
  },
  {
   "cell_type": "markdown",
   "metadata": {},
   "source": [
    "Для каждого метода (3, 5, 7 соседей) при шкалировании значения всех метрих качества никак не изменились, поэтому мы с уверенностью можем сказать, что шкалирование не помогло и в данной ситуации является бесполезным."
   ]
  },
  {
   "cell_type": "markdown",
   "metadata": {},
   "source": [
    "**Задание 6.** Избавьтесь от выбросов в исходной выборке, затем снова разделите ее на тестовую и обучающую, постройте модель для нескольких вариантов числа соседей(3, 5, 7). Какое число соседей лучшее и почему? Улучшилось ли качество модели по сравнению со лучшей моделью, в которой было применено шкалирование из задания 5?"
   ]
  },
  {
   "cell_type": "code",
   "execution_count": 29,
   "metadata": {},
   "outputs": [],
   "source": [
    "#избавляемся от выбросов логарифмируя значения по каждой количественной перменной\n",
    "train[X] = train[X].apply(lambda i: np.log(i + 1))\n",
    "test[X] = test[X].apply(lambda i: np.log(i + 1))\n",
    "X_train = train[X]\n",
    "X_test = test[X]"
   ]
  },
  {
   "cell_type": "code",
   "execution_count": 30,
   "metadata": {},
   "outputs": [
    {
     "name": "stdout",
     "output_type": "stream",
     "text": [
      "[1 1 1 1 1 1 1 1 1 1 1 1 1 1 1 1 1 1 1 1 1 1 1 1 0 1 1 1 1 1 1 1 1 1 1 1 1\n",
      " 1 1 1 1 1 1 1 1 1 1]\n",
      "0.9347826086956522 1.0 0.9662921348314606\n"
     ]
    }
   ],
   "source": [
    "knn3.fit(X_train, y_train)\n",
    "\n",
    "y_pred_knn3 = knn3.predict(X_test)\n",
    "print(y_pred_knn3)\n",
    "precision = precision_score(y_test, y_pred_knn3)\n",
    "recall = recall_score(y_test, y_pred_knn3)\n",
    "f1 = f1_score(y_test, y_pred_knn3)\n",
    "print(precision, recall, f1)"
   ]
  },
  {
   "cell_type": "code",
   "execution_count": 31,
   "metadata": {},
   "outputs": [
    {
     "name": "stdout",
     "output_type": "stream",
     "text": [
      "[1 1 1 1 1 1 1 1 1 1 1 1 1 1 1 1 1 1 1 1 1 1 1 1 1 1 1 1 1 1 1 1 1 1 1 1 1\n",
      " 1 1 1 1 1 1 1 1 1 1]\n",
      "0.9148936170212766 1.0 0.9555555555555556\n"
     ]
    }
   ],
   "source": [
    "knn5.fit(X_train, y_train)\n",
    "\n",
    "y_pred_knn5 = knn5.predict(X_test)\n",
    "print(y_pred_knn5)\n",
    "precision = precision_score(y_test, y_pred_knn5)\n",
    "recall = recall_score(y_test, y_pred_knn5)\n",
    "f1 = f1_score(y_test, y_pred_knn5)\n",
    "print(precision, recall, f1)"
   ]
  },
  {
   "cell_type": "code",
   "execution_count": 32,
   "metadata": {},
   "outputs": [
    {
     "name": "stdout",
     "output_type": "stream",
     "text": [
      "[1 1 1 1 1 1 1 1 1 1 1 1 1 1 1 1 1 1 1 1 1 1 1 1 1 1 1 1 1 1 1 1 1 1 1 1 1\n",
      " 1 1 1 1 1 1 1 1 1 1]\n",
      "0.9148936170212766 1.0 0.9555555555555556\n"
     ]
    }
   ],
   "source": [
    "knn7.fit(X_train, y_train)\n",
    "\n",
    "y_pred_knn7 = knn7.predict(X_test)\n",
    "print(y_pred_knn7)\n",
    "precision = precision_score(y_test, y_pred_knn7)\n",
    "recall = recall_score(y_test, y_pred_knn7)\n",
    "f1 = f1_score(y_test, y_pred_knn7)\n",
    "print(precision, recall, f1)"
   ]
  },
  {
   "cell_type": "markdown",
   "metadata": {},
   "source": [
    "**Задание 7.** Какая конфигурация модели получилась лучшей? Почему?Выбираем из всех построенных моделей, не забудьте про наивный прогноз и все рассмотренне варианты числа соседей. "
   ]
  },
  {
   "cell_type": "markdown",
   "metadata": {},
   "source": [
    "**Ответ**\n",
    "\n",
    "Практически все конфигурации получили одинаковые результаты по всем метрикам. Однако нашлись 2 особенные выборки. Начальная тестовая выборка по 3 ближайшим соседям показала худшие относительно всех остальных показатели.\n",
    "\n",
    "А тестовая выборка с очищенными выбросами методом 3 ближайших соседей показала науличшие результаты. Значение precision и ф-меры  для этой модели оказалось немного выше, чем у остальных.\n",
    "\n",
    "precision = 0.935\n",
    "\n",
    "recall = 1\n",
    "\n",
    "f-measure = 0.996\n",
    "\n",
    "В таком случае именно эта конфигурация модели получилась лучшей."
   ]
  },
  {
   "cell_type": "code",
   "execution_count": null,
   "metadata": {},
   "outputs": [],
   "source": []
  }
 ],
 "metadata": {
  "kernelspec": {
   "display_name": "Python 3 (ipykernel)",
   "language": "python",
   "name": "python3"
  },
  "language_info": {
   "codemirror_mode": {
    "name": "ipython",
    "version": 3
   },
   "file_extension": ".py",
   "mimetype": "text/x-python",
   "name": "python",
   "nbconvert_exporter": "python",
   "pygments_lexer": "ipython3",
   "version": "3.10.4"
  }
 },
 "nbformat": 4,
 "nbformat_minor": 4
}
